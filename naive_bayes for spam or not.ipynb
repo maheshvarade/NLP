{
 "cells": [
  {
   "cell_type": "code",
   "execution_count": 1,
   "id": "f048d080",
   "metadata": {},
   "outputs": [],
   "source": [
    "import pandas as pd\n",
    "from sklearn.model_selection import train_test_split\n",
    "from sklearn.feature_extraction.text import CountVectorizer,TfidfVectorizer\n",
    "from sklearn.naive_bayes import MultinomialNB\n",
    "from sklearn.metrics import accuracy_score\n",
    "import string\n",
    "import matplotlib.pyplot as plt"
   ]
  },
  {
   "cell_type": "code",
   "execution_count": 3,
   "id": "238993e7",
   "metadata": {},
   "outputs": [
    {
     "data": {
      "text/html": [
       "<div>\n",
       "<style scoped>\n",
       "    .dataframe tbody tr th:only-of-type {\n",
       "        vertical-align: middle;\n",
       "    }\n",
       "\n",
       "    .dataframe tbody tr th {\n",
       "        vertical-align: top;\n",
       "    }\n",
       "\n",
       "    .dataframe thead th {\n",
       "        text-align: right;\n",
       "    }\n",
       "</style>\n",
       "<table border=\"1\" class=\"dataframe\">\n",
       "  <thead>\n",
       "    <tr style=\"text-align: right;\">\n",
       "      <th></th>\n",
       "      <th>title</th>\n",
       "      <th>text</th>\n",
       "      <th>type</th>\n",
       "    </tr>\n",
       "  </thead>\n",
       "  <tbody>\n",
       "    <tr>\n",
       "      <th>0</th>\n",
       "      <td>?? the secrets to SUCCESS</td>\n",
       "      <td>Hi James,\\n\\nHave you claim your complimentary...</td>\n",
       "      <td>spam</td>\n",
       "    </tr>\n",
       "    <tr>\n",
       "      <th>1</th>\n",
       "      <td>?? You Earned 500 GCLoot Points</td>\n",
       "      <td>\\nalt_text\\nCongratulations, you just earned\\n...</td>\n",
       "      <td>not spam</td>\n",
       "    </tr>\n",
       "    <tr>\n",
       "      <th>2</th>\n",
       "      <td>?? Your GitHub launch code</td>\n",
       "      <td>Here's your GitHub launch code, @Mortyj420!\\n ...</td>\n",
       "      <td>not spam</td>\n",
       "    </tr>\n",
       "    <tr>\n",
       "      <th>3</th>\n",
       "      <td>[The Virtual Reward Center] Re: ** Clarifications</td>\n",
       "      <td>Hello,\\n \\nThank you for contacting the Virtua...</td>\n",
       "      <td>not spam</td>\n",
       "    </tr>\n",
       "    <tr>\n",
       "      <th>4</th>\n",
       "      <td>10-1 MLB Expert Inside, Plus Everything You Ne...</td>\n",
       "      <td>Hey Prachanda Rawal,\\n\\nToday's newsletter is ...</td>\n",
       "      <td>spam</td>\n",
       "    </tr>\n",
       "    <tr>\n",
       "      <th>...</th>\n",
       "      <td>...</td>\n",
       "      <td>...</td>\n",
       "      <td>...</td>\n",
       "    </tr>\n",
       "    <tr>\n",
       "      <th>79</th>\n",
       "      <td>Your application for the position of  Child Pr...</td>\n",
       "      <td>Dear Maryam, \\n\\n \\n\\nI would like to thank yo...</td>\n",
       "      <td>not spam</td>\n",
       "    </tr>\n",
       "    <tr>\n",
       "      <th>80</th>\n",
       "      <td>Your Kilimall Account is Ready - Shopping Now!</td>\n",
       "      <td>Dear Customer,\\n\\nWelcome to Kilimall, Thanks ...</td>\n",
       "      <td>not spam</td>\n",
       "    </tr>\n",
       "    <tr>\n",
       "      <th>81</th>\n",
       "      <td>Your Steam account: Access from new web or mob...</td>\n",
       "      <td>Dear vladis163rus,\\nHere is the Steam Guard co...</td>\n",
       "      <td>not spam</td>\n",
       "    </tr>\n",
       "    <tr>\n",
       "      <th>82</th>\n",
       "      <td>Your uploaded document is rejected</td>\n",
       "      <td>View In Browser | Log in\\n \\n \\n\\nSkrill logo\\...</td>\n",
       "      <td>not spam</td>\n",
       "    </tr>\n",
       "    <tr>\n",
       "      <th>83</th>\n",
       "      <td>You've Earned a Reward from Bard Explorers India</td>\n",
       "      <td>You've received a gift!\\nSign in to your Bard ...</td>\n",
       "      <td>not spam</td>\n",
       "    </tr>\n",
       "  </tbody>\n",
       "</table>\n",
       "<p>84 rows × 3 columns</p>\n",
       "</div>"
      ],
      "text/plain": [
       "                                                title  \\\n",
       "0                           ?? the secrets to SUCCESS   \n",
       "1                     ?? You Earned 500 GCLoot Points   \n",
       "2                          ?? Your GitHub launch code   \n",
       "3   [The Virtual Reward Center] Re: ** Clarifications   \n",
       "4   10-1 MLB Expert Inside, Plus Everything You Ne...   \n",
       "..                                                ...   \n",
       "79  Your application for the position of  Child Pr...   \n",
       "80     Your Kilimall Account is Ready - Shopping Now!   \n",
       "81  Your Steam account: Access from new web or mob...   \n",
       "82                 Your uploaded document is rejected   \n",
       "83   You've Earned a Reward from Bard Explorers India   \n",
       "\n",
       "                                                 text      type  \n",
       "0   Hi James,\\n\\nHave you claim your complimentary...      spam  \n",
       "1   \\nalt_text\\nCongratulations, you just earned\\n...  not spam  \n",
       "2   Here's your GitHub launch code, @Mortyj420!\\n ...  not spam  \n",
       "3   Hello,\\n \\nThank you for contacting the Virtua...  not spam  \n",
       "4   Hey Prachanda Rawal,\\n\\nToday's newsletter is ...      spam  \n",
       "..                                                ...       ...  \n",
       "79  Dear Maryam, \\n\\n \\n\\nI would like to thank yo...  not spam  \n",
       "80  Dear Customer,\\n\\nWelcome to Kilimall, Thanks ...  not spam  \n",
       "81  Dear vladis163rus,\\nHere is the Steam Guard co...  not spam  \n",
       "82  View In Browser | Log in\\n \\n \\n\\nSkrill logo\\...  not spam  \n",
       "83  You've received a gift!\\nSign in to your Bard ...  not spam  \n",
       "\n",
       "[84 rows x 3 columns]"
      ]
     },
     "execution_count": 3,
     "metadata": {},
     "output_type": "execute_result"
    }
   ],
   "source": [
    "df= pd.read_csv('email_spam[1].csv')\n",
    "df"
   ]
  },
  {
   "cell_type": "code",
   "execution_count": 6,
   "id": "a4c84438",
   "metadata": {},
   "outputs": [],
   "source": [
    "df['Target']=df['type'].map({\"spam\":0,\"not spam\":1})\n",
    "df.drop(columns=\"type\",inplace=True)"
   ]
  },
  {
   "cell_type": "code",
   "execution_count": 7,
   "id": "3106a1c6",
   "metadata": {},
   "outputs": [
    {
     "data": {
      "text/html": [
       "<div>\n",
       "<style scoped>\n",
       "    .dataframe tbody tr th:only-of-type {\n",
       "        vertical-align: middle;\n",
       "    }\n",
       "\n",
       "    .dataframe tbody tr th {\n",
       "        vertical-align: top;\n",
       "    }\n",
       "\n",
       "    .dataframe thead th {\n",
       "        text-align: right;\n",
       "    }\n",
       "</style>\n",
       "<table border=\"1\" class=\"dataframe\">\n",
       "  <thead>\n",
       "    <tr style=\"text-align: right;\">\n",
       "      <th></th>\n",
       "      <th>title</th>\n",
       "      <th>text</th>\n",
       "      <th>Target</th>\n",
       "    </tr>\n",
       "  </thead>\n",
       "  <tbody>\n",
       "    <tr>\n",
       "      <th>0</th>\n",
       "      <td>?? the secrets to SUCCESS</td>\n",
       "      <td>Hi James,\\n\\nHave you claim your complimentary...</td>\n",
       "      <td>0</td>\n",
       "    </tr>\n",
       "    <tr>\n",
       "      <th>1</th>\n",
       "      <td>?? You Earned 500 GCLoot Points</td>\n",
       "      <td>\\nalt_text\\nCongratulations, you just earned\\n...</td>\n",
       "      <td>1</td>\n",
       "    </tr>\n",
       "    <tr>\n",
       "      <th>2</th>\n",
       "      <td>?? Your GitHub launch code</td>\n",
       "      <td>Here's your GitHub launch code, @Mortyj420!\\n ...</td>\n",
       "      <td>1</td>\n",
       "    </tr>\n",
       "    <tr>\n",
       "      <th>3</th>\n",
       "      <td>[The Virtual Reward Center] Re: ** Clarifications</td>\n",
       "      <td>Hello,\\n \\nThank you for contacting the Virtua...</td>\n",
       "      <td>1</td>\n",
       "    </tr>\n",
       "    <tr>\n",
       "      <th>4</th>\n",
       "      <td>10-1 MLB Expert Inside, Plus Everything You Ne...</td>\n",
       "      <td>Hey Prachanda Rawal,\\n\\nToday's newsletter is ...</td>\n",
       "      <td>0</td>\n",
       "    </tr>\n",
       "  </tbody>\n",
       "</table>\n",
       "</div>"
      ],
      "text/plain": [
       "                                               title  \\\n",
       "0                          ?? the secrets to SUCCESS   \n",
       "1                    ?? You Earned 500 GCLoot Points   \n",
       "2                         ?? Your GitHub launch code   \n",
       "3  [The Virtual Reward Center] Re: ** Clarifications   \n",
       "4  10-1 MLB Expert Inside, Plus Everything You Ne...   \n",
       "\n",
       "                                                text  Target  \n",
       "0  Hi James,\\n\\nHave you claim your complimentary...       0  \n",
       "1  \\nalt_text\\nCongratulations, you just earned\\n...       1  \n",
       "2  Here's your GitHub launch code, @Mortyj420!\\n ...       1  \n",
       "3  Hello,\\n \\nThank you for contacting the Virtua...       1  \n",
       "4  Hey Prachanda Rawal,\\n\\nToday's newsletter is ...       0  "
      ]
     },
     "execution_count": 7,
     "metadata": {},
     "output_type": "execute_result"
    }
   ],
   "source": [
    "df.head()"
   ]
  },
  {
   "cell_type": "code",
   "execution_count": 8,
   "id": "2a2a69f8",
   "metadata": {},
   "outputs": [
    {
     "data": {
      "text/plain": [
       "title     0\n",
       "text      0\n",
       "Target    0\n",
       "dtype: int64"
      ]
     },
     "execution_count": 8,
     "metadata": {},
     "output_type": "execute_result"
    }
   ],
   "source": [
    "df.isna().sum()"
   ]
  },
  {
   "cell_type": "code",
   "execution_count": 10,
   "id": "0eac5ed3",
   "metadata": {},
   "outputs": [
    {
     "data": {
      "text/plain": [
       "1    58\n",
       "0    26\n",
       "Name: Target, dtype: int64"
      ]
     },
     "execution_count": 10,
     "metadata": {},
     "output_type": "execute_result"
    }
   ],
   "source": [
    "df[\"Target\"].value_counts()"
   ]
  },
  {
   "cell_type": "code",
   "execution_count": 21,
   "id": "b0cce8e9",
   "metadata": {},
   "outputs": [
    {
     "data": {
      "text/html": [
       "<div>\n",
       "<style scoped>\n",
       "    .dataframe tbody tr th:only-of-type {\n",
       "        vertical-align: middle;\n",
       "    }\n",
       "\n",
       "    .dataframe tbody tr th {\n",
       "        vertical-align: top;\n",
       "    }\n",
       "\n",
       "    .dataframe thead th {\n",
       "        text-align: right;\n",
       "    }\n",
       "</style>\n",
       "<table border=\"1\" class=\"dataframe\">\n",
       "  <thead>\n",
       "    <tr style=\"text-align: right;\">\n",
       "      <th></th>\n",
       "      <th>title</th>\n",
       "      <th>text</th>\n",
       "      <th>Target</th>\n",
       "      <th>text_len</th>\n",
       "      <th>length</th>\n",
       "    </tr>\n",
       "  </thead>\n",
       "  <tbody>\n",
       "    <tr>\n",
       "      <th>0</th>\n",
       "      <td>?? the secrets to SUCCESS</td>\n",
       "      <td>Hi James,\\n\\nHave you claim your complimentary...</td>\n",
       "      <td>0</td>\n",
       "      <td>302</td>\n",
       "      <td>302</td>\n",
       "    </tr>\n",
       "    <tr>\n",
       "      <th>1</th>\n",
       "      <td>?? You Earned 500 GCLoot Points</td>\n",
       "      <td>\\nalt_text\\nCongratulations, you just earned\\n...</td>\n",
       "      <td>1</td>\n",
       "      <td>350</td>\n",
       "      <td>350</td>\n",
       "    </tr>\n",
       "    <tr>\n",
       "      <th>2</th>\n",
       "      <td>?? Your GitHub launch code</td>\n",
       "      <td>Here's your GitHub launch code, @Mortyj420!\\n ...</td>\n",
       "      <td>1</td>\n",
       "      <td>166</td>\n",
       "      <td>166</td>\n",
       "    </tr>\n",
       "    <tr>\n",
       "      <th>3</th>\n",
       "      <td>[The Virtual Reward Center] Re: ** Clarifications</td>\n",
       "      <td>Hello,\\n \\nThank you for contacting the Virtua...</td>\n",
       "      <td>1</td>\n",
       "      <td>399</td>\n",
       "      <td>399</td>\n",
       "    </tr>\n",
       "    <tr>\n",
       "      <th>4</th>\n",
       "      <td>10-1 MLB Expert Inside, Plus Everything You Ne...</td>\n",
       "      <td>Hey Prachanda Rawal,\\n\\nToday's newsletter is ...</td>\n",
       "      <td>0</td>\n",
       "      <td>6079</td>\n",
       "      <td>6079</td>\n",
       "    </tr>\n",
       "  </tbody>\n",
       "</table>\n",
       "</div>"
      ],
      "text/plain": [
       "                                               title  \\\n",
       "0                          ?? the secrets to SUCCESS   \n",
       "1                    ?? You Earned 500 GCLoot Points   \n",
       "2                         ?? Your GitHub launch code   \n",
       "3  [The Virtual Reward Center] Re: ** Clarifications   \n",
       "4  10-1 MLB Expert Inside, Plus Everything You Ne...   \n",
       "\n",
       "                                                text  Target  text_len  length  \n",
       "0  Hi James,\\n\\nHave you claim your complimentary...       0       302     302  \n",
       "1  \\nalt_text\\nCongratulations, you just earned\\n...       1       350     350  \n",
       "2  Here's your GitHub launch code, @Mortyj420!\\n ...       1       166     166  \n",
       "3  Hello,\\n \\nThank you for contacting the Virtua...       1       399     399  \n",
       "4  Hey Prachanda Rawal,\\n\\nToday's newsletter is ...       0      6079    6079  "
      ]
     },
     "execution_count": 21,
     "metadata": {},
     "output_type": "execute_result"
    }
   ],
   "source": [
    "df['text_len']=df.text.str.len()\n"
   ]
  },
  {
   "cell_type": "code",
   "execution_count": 22,
   "id": "962260f1",
   "metadata": {},
   "outputs": [],
   "source": [
    "df[\"text\"]=df['text'].str.lower()"
   ]
  },
  {
   "cell_type": "code",
   "execution_count": 25,
   "id": "6c656739",
   "metadata": {},
   "outputs": [],
   "source": [
    "df.drop(columns=\"length\",inplace=True)"
   ]
  },
  {
   "cell_type": "code",
   "execution_count": 26,
   "id": "2b79411e",
   "metadata": {},
   "outputs": [
    {
     "data": {
      "text/html": [
       "<div>\n",
       "<style scoped>\n",
       "    .dataframe tbody tr th:only-of-type {\n",
       "        vertical-align: middle;\n",
       "    }\n",
       "\n",
       "    .dataframe tbody tr th {\n",
       "        vertical-align: top;\n",
       "    }\n",
       "\n",
       "    .dataframe thead th {\n",
       "        text-align: right;\n",
       "    }\n",
       "</style>\n",
       "<table border=\"1\" class=\"dataframe\">\n",
       "  <thead>\n",
       "    <tr style=\"text-align: right;\">\n",
       "      <th></th>\n",
       "      <th>title</th>\n",
       "      <th>text</th>\n",
       "      <th>Target</th>\n",
       "      <th>text_len</th>\n",
       "    </tr>\n",
       "  </thead>\n",
       "  <tbody>\n",
       "    <tr>\n",
       "      <th>0</th>\n",
       "      <td>?? the secrets to SUCCESS</td>\n",
       "      <td>hi james,\\n\\nhave you claim your complimentary...</td>\n",
       "      <td>0</td>\n",
       "      <td>302</td>\n",
       "    </tr>\n",
       "    <tr>\n",
       "      <th>1</th>\n",
       "      <td>?? You Earned 500 GCLoot Points</td>\n",
       "      <td>\\nalt_text\\ncongratulations, you just earned\\n...</td>\n",
       "      <td>1</td>\n",
       "      <td>350</td>\n",
       "    </tr>\n",
       "    <tr>\n",
       "      <th>2</th>\n",
       "      <td>?? Your GitHub launch code</td>\n",
       "      <td>here's your github launch code, @mortyj420!\\n ...</td>\n",
       "      <td>1</td>\n",
       "      <td>166</td>\n",
       "    </tr>\n",
       "    <tr>\n",
       "      <th>3</th>\n",
       "      <td>[The Virtual Reward Center] Re: ** Clarifications</td>\n",
       "      <td>hello,\\n \\nthank you for contacting the virtua...</td>\n",
       "      <td>1</td>\n",
       "      <td>399</td>\n",
       "    </tr>\n",
       "    <tr>\n",
       "      <th>4</th>\n",
       "      <td>10-1 MLB Expert Inside, Plus Everything You Ne...</td>\n",
       "      <td>hey prachanda rawal,\\n\\ntoday's newsletter is ...</td>\n",
       "      <td>0</td>\n",
       "      <td>6079</td>\n",
       "    </tr>\n",
       "    <tr>\n",
       "      <th>...</th>\n",
       "      <td>...</td>\n",
       "      <td>...</td>\n",
       "      <td>...</td>\n",
       "      <td>...</td>\n",
       "    </tr>\n",
       "    <tr>\n",
       "      <th>79</th>\n",
       "      <td>Your application for the position of  Child Pr...</td>\n",
       "      <td>dear maryam, \\n\\n \\n\\ni would like to thank yo...</td>\n",
       "      <td>1</td>\n",
       "      <td>432</td>\n",
       "    </tr>\n",
       "    <tr>\n",
       "      <th>80</th>\n",
       "      <td>Your Kilimall Account is Ready - Shopping Now!</td>\n",
       "      <td>dear customer,\\n\\nwelcome to kilimall, thanks ...</td>\n",
       "      <td>1</td>\n",
       "      <td>466</td>\n",
       "    </tr>\n",
       "    <tr>\n",
       "      <th>81</th>\n",
       "      <td>Your Steam account: Access from new web or mob...</td>\n",
       "      <td>dear vladis163rus,\\nhere is the steam guard co...</td>\n",
       "      <td>1</td>\n",
       "      <td>1060</td>\n",
       "    </tr>\n",
       "    <tr>\n",
       "      <th>82</th>\n",
       "      <td>Your uploaded document is rejected</td>\n",
       "      <td>view in browser | log in\\n \\n \\n\\nskrill logo\\...</td>\n",
       "      <td>1</td>\n",
       "      <td>3163</td>\n",
       "    </tr>\n",
       "    <tr>\n",
       "      <th>83</th>\n",
       "      <td>You've Earned a Reward from Bard Explorers India</td>\n",
       "      <td>you've received a gift!\\nsign in to your bard ...</td>\n",
       "      <td>1</td>\n",
       "      <td>499</td>\n",
       "    </tr>\n",
       "  </tbody>\n",
       "</table>\n",
       "<p>84 rows × 4 columns</p>\n",
       "</div>"
      ],
      "text/plain": [
       "                                                title  \\\n",
       "0                           ?? the secrets to SUCCESS   \n",
       "1                     ?? You Earned 500 GCLoot Points   \n",
       "2                          ?? Your GitHub launch code   \n",
       "3   [The Virtual Reward Center] Re: ** Clarifications   \n",
       "4   10-1 MLB Expert Inside, Plus Everything You Ne...   \n",
       "..                                                ...   \n",
       "79  Your application for the position of  Child Pr...   \n",
       "80     Your Kilimall Account is Ready - Shopping Now!   \n",
       "81  Your Steam account: Access from new web or mob...   \n",
       "82                 Your uploaded document is rejected   \n",
       "83   You've Earned a Reward from Bard Explorers India   \n",
       "\n",
       "                                                 text  Target  text_len  \n",
       "0   hi james,\\n\\nhave you claim your complimentary...       0       302  \n",
       "1   \\nalt_text\\ncongratulations, you just earned\\n...       1       350  \n",
       "2   here's your github launch code, @mortyj420!\\n ...       1       166  \n",
       "3   hello,\\n \\nthank you for contacting the virtua...       1       399  \n",
       "4   hey prachanda rawal,\\n\\ntoday's newsletter is ...       0      6079  \n",
       "..                                                ...     ...       ...  \n",
       "79  dear maryam, \\n\\n \\n\\ni would like to thank yo...       1       432  \n",
       "80  dear customer,\\n\\nwelcome to kilimall, thanks ...       1       466  \n",
       "81  dear vladis163rus,\\nhere is the steam guard co...       1      1060  \n",
       "82  view in browser | log in\\n \\n \\n\\nskrill logo\\...       1      3163  \n",
       "83  you've received a gift!\\nsign in to your bard ...       1       499  \n",
       "\n",
       "[84 rows x 4 columns]"
      ]
     },
     "execution_count": 26,
     "metadata": {},
     "output_type": "execute_result"
    }
   ],
   "source": [
    "df"
   ]
  },
  {
   "cell_type": "code",
   "execution_count": 27,
   "id": "7443dc68",
   "metadata": {},
   "outputs": [
    {
     "data": {
      "text/html": [
       "<div>\n",
       "<style scoped>\n",
       "    .dataframe tbody tr th:only-of-type {\n",
       "        vertical-align: middle;\n",
       "    }\n",
       "\n",
       "    .dataframe tbody tr th {\n",
       "        vertical-align: top;\n",
       "    }\n",
       "\n",
       "    .dataframe thead th {\n",
       "        text-align: right;\n",
       "    }\n",
       "</style>\n",
       "<table border=\"1\" class=\"dataframe\">\n",
       "  <thead>\n",
       "    <tr style=\"text-align: right;\">\n",
       "      <th></th>\n",
       "      <th>Target</th>\n",
       "      <th>text_len</th>\n",
       "    </tr>\n",
       "  </thead>\n",
       "  <tbody>\n",
       "    <tr>\n",
       "      <th>count</th>\n",
       "      <td>84.000000</td>\n",
       "      <td>84.000000</td>\n",
       "    </tr>\n",
       "    <tr>\n",
       "      <th>mean</th>\n",
       "      <td>0.690476</td>\n",
       "      <td>845.690476</td>\n",
       "    </tr>\n",
       "    <tr>\n",
       "      <th>std</th>\n",
       "      <td>0.465074</td>\n",
       "      <td>989.806151</td>\n",
       "    </tr>\n",
       "    <tr>\n",
       "      <th>min</th>\n",
       "      <td>0.000000</td>\n",
       "      <td>19.000000</td>\n",
       "    </tr>\n",
       "    <tr>\n",
       "      <th>25%</th>\n",
       "      <td>0.000000</td>\n",
       "      <td>312.750000</td>\n",
       "    </tr>\n",
       "    <tr>\n",
       "      <th>50%</th>\n",
       "      <td>1.000000</td>\n",
       "      <td>568.000000</td>\n",
       "    </tr>\n",
       "    <tr>\n",
       "      <th>75%</th>\n",
       "      <td>1.000000</td>\n",
       "      <td>941.000000</td>\n",
       "    </tr>\n",
       "    <tr>\n",
       "      <th>max</th>\n",
       "      <td>1.000000</td>\n",
       "      <td>6079.000000</td>\n",
       "    </tr>\n",
       "  </tbody>\n",
       "</table>\n",
       "</div>"
      ],
      "text/plain": [
       "          Target     text_len\n",
       "count  84.000000    84.000000\n",
       "mean    0.690476   845.690476\n",
       "std     0.465074   989.806151\n",
       "min     0.000000    19.000000\n",
       "25%     0.000000   312.750000\n",
       "50%     1.000000   568.000000\n",
       "75%     1.000000   941.000000\n",
       "max     1.000000  6079.000000"
      ]
     },
     "execution_count": 27,
     "metadata": {},
     "output_type": "execute_result"
    }
   ],
   "source": [
    "df.describe()"
   ]
  },
  {
   "cell_type": "code",
   "execution_count": 37,
   "id": "983960d0",
   "metadata": {},
   "outputs": [
    {
     "data": {
      "text/html": [
       "<div>\n",
       "<style scoped>\n",
       "    .dataframe tbody tr th:only-of-type {\n",
       "        vertical-align: middle;\n",
       "    }\n",
       "\n",
       "    .dataframe tbody tr th {\n",
       "        vertical-align: top;\n",
       "    }\n",
       "\n",
       "    .dataframe thead th {\n",
       "        text-align: right;\n",
       "    }\n",
       "</style>\n",
       "<table border=\"1\" class=\"dataframe\">\n",
       "  <thead>\n",
       "    <tr style=\"text-align: right;\">\n",
       "      <th></th>\n",
       "      <th>title</th>\n",
       "      <th>text</th>\n",
       "      <th>Target</th>\n",
       "      <th>text_len</th>\n",
       "    </tr>\n",
       "  </thead>\n",
       "  <tbody>\n",
       "    <tr>\n",
       "      <th>4</th>\n",
       "      <td>10-1 MLB Expert Inside, Plus Everything You Ne...</td>\n",
       "      <td>hey prachanda rawal,\\n\\ntoday's newsletter is ...</td>\n",
       "      <td>0</td>\n",
       "      <td>6079</td>\n",
       "    </tr>\n",
       "  </tbody>\n",
       "</table>\n",
       "</div>"
      ],
      "text/plain": [
       "                                               title  \\\n",
       "4  10-1 MLB Expert Inside, Plus Everything You Ne...   \n",
       "\n",
       "                                                text  Target  text_len  \n",
       "4  hey prachanda rawal,\\n\\ntoday's newsletter is ...       0      6079  "
      ]
     },
     "execution_count": 37,
     "metadata": {},
     "output_type": "execute_result"
    }
   ],
   "source": [
    "df.loc[df['text_len']==6079]"
   ]
  },
  {
   "cell_type": "code",
   "execution_count": 35,
   "id": "ba38a859",
   "metadata": {},
   "outputs": [
    {
     "data": {
      "text/html": [
       "<div>\n",
       "<style scoped>\n",
       "    .dataframe tbody tr th:only-of-type {\n",
       "        vertical-align: middle;\n",
       "    }\n",
       "\n",
       "    .dataframe tbody tr th {\n",
       "        vertical-align: top;\n",
       "    }\n",
       "\n",
       "    .dataframe thead th {\n",
       "        text-align: right;\n",
       "    }\n",
       "</style>\n",
       "<table border=\"1\" class=\"dataframe\">\n",
       "  <thead>\n",
       "    <tr style=\"text-align: right;\">\n",
       "      <th></th>\n",
       "      <th>title</th>\n",
       "      <th>text</th>\n",
       "    </tr>\n",
       "  </thead>\n",
       "  <tbody>\n",
       "    <tr>\n",
       "      <th>count</th>\n",
       "      <td>84</td>\n",
       "      <td>84</td>\n",
       "    </tr>\n",
       "    <tr>\n",
       "      <th>unique</th>\n",
       "      <td>78</td>\n",
       "      <td>82</td>\n",
       "    </tr>\n",
       "    <tr>\n",
       "      <th>top</th>\n",
       "      <td>English</td>\n",
       "      <td>model casting call\\nthank you for taking the t...</td>\n",
       "    </tr>\n",
       "    <tr>\n",
       "      <th>freq</th>\n",
       "      <td>3</td>\n",
       "      <td>2</td>\n",
       "    </tr>\n",
       "  </tbody>\n",
       "</table>\n",
       "</div>"
      ],
      "text/plain": [
       "          title                                               text\n",
       "count        84                                                 84\n",
       "unique       78                                                 82\n",
       "top     English  model casting call\\nthank you for taking the t...\n",
       "freq          3                                                  2"
      ]
     },
     "execution_count": 35,
     "metadata": {},
     "output_type": "execute_result"
    }
   ],
   "source": [
    "df.describe(include=\"O\")"
   ]
  },
  {
   "cell_type": "code",
   "execution_count": 54,
   "id": "0d170ec4",
   "metadata": {},
   "outputs": [
    {
     "name": "stdout",
     "output_type": "stream",
     "text": [
      "!\"#$%&'()*+,-./:;<=>?@[\\]^_`{|}~\n"
     ]
    }
   ],
   "source": [
    "import string\n",
    "print(string.punctuation)"
   ]
  },
  {
   "cell_type": "code",
   "execution_count": 58,
   "id": "22f7d761",
   "metadata": {},
   "outputs": [
    {
     "data": {
      "text/plain": [
       "'\\nlogo image\\nsenol yildirim,\\n\\nsomeone signed-in to your account.\\n\\nwhen: jul 06, 2023 07:34 pm turkey time\\ndevice: amazon shopping app for android\\nnear: manisa, turkey\\nif this was you, you can disregard this message. otherwise, please let us know.'"
      ]
     },
     "execution_count": 58,
     "metadata": {},
     "output_type": "execute_result"
    }
   ],
   "source": [
    "str2=df['text'][8]\n",
    "str2"
   ]
  },
  {
   "cell_type": "code",
   "execution_count": 57,
   "id": "74aabf47",
   "metadata": {},
   "outputs": [
    {
     "name": "stdout",
     "output_type": "stream",
     "text": [
      "['\\n', 'l', 'o', 'g', 'o', ' ', 'i', 'm', 'a', 'g', 'e', '\\n', 's', 'e', 'n', 'o', 'l', ' ', 'y', 'i', 'l', 'd', 'i', 'r', 'i', 'm', '\\n', '\\n', 's', 'o', 'm', 'e', 'o', 'n', 'e', ' ', 's', 'i', 'g', 'n', 'e', 'd', 'i', 'n', ' ', 't', 'o', ' ', 'y', 'o', 'u', 'r', ' ', 'a', 'c', 'c', 'o', 'u', 'n', 't', '\\n', '\\n', 'w', 'h', 'e', 'n', ' ', 'j', 'u', 'l', ' ', '0', '6', ' ', '2', '0', '2', '3', ' ', '0', '7', '3', '4', ' ', 'p', 'm', ' ', 't', 'u', 'r', 'k', 'e', 'y', ' ', 't', 'i', 'm', 'e', '\\n', 'd', 'e', 'v', 'i', 'c', 'e', ' ', 'a', 'm', 'a', 'z', 'o', 'n', ' ', 's', 'h', 'o', 'p', 'p', 'i', 'n', 'g', ' ', 'a', 'p', 'p', ' ', 'f', 'o', 'r', ' ', 'a', 'n', 'd', 'r', 'o', 'i', 'd', '\\n', 'n', 'e', 'a', 'r', ' ', 'm', 'a', 'n', 'i', 's', 'a', ' ', 't', 'u', 'r', 'k', 'e', 'y', '\\n', 'i', 'f', ' ', 't', 'h', 'i', 's', ' ', 'w', 'a', 's', ' ', 'y', 'o', 'u', ' ', 'y', 'o', 'u', ' ', 'c', 'a', 'n', ' ', 'd', 'i', 's', 'r', 'e', 'g', 'a', 'r', 'd', ' ', 't', 'h', 'i', 's', ' ', 'm', 'e', 's', 's', 'a', 'g', 'e', ' ', 'o', 't', 'h', 'e', 'r', 'w', 'i', 's', 'e', ' ', 'p', 'l', 'e', 'a', 's', 'e', ' ', 'l', 'e', 't', ' ', 'u', 's', ' ', 'k', 'n', 'o', 'w']\n"
     ]
    },
    {
     "data": {
      "text/plain": [
       "'\\nlogo image\\nsenol yildirim\\n\\nsomeone signedin to your account\\n\\nwhen jul 06 2023 0734 pm turkey time\\ndevice amazon shopping app for android\\nnear manisa turkey\\nif this was you you can disregard this message otherwise please let us know'"
      ]
     },
     "execution_count": 57,
     "metadata": {},
     "output_type": "execute_result"
    }
   ],
   "source": [
    "l1 = [i for i in str2 if i not in string.punctuation]  #list comprehension\n",
    "print(l1)\n",
    "\"\".join(l1)"
   ]
  },
  {
   "cell_type": "code",
   "execution_count": 124,
   "id": "b0391084",
   "metadata": {},
   "outputs": [
    {
     "data": {
      "text/html": [
       "<div>\n",
       "<style scoped>\n",
       "    .dataframe tbody tr th:only-of-type {\n",
       "        vertical-align: middle;\n",
       "    }\n",
       "\n",
       "    .dataframe tbody tr th {\n",
       "        vertical-align: top;\n",
       "    }\n",
       "\n",
       "    .dataframe thead th {\n",
       "        text-align: right;\n",
       "    }\n",
       "</style>\n",
       "<table border=\"1\" class=\"dataframe\">\n",
       "  <thead>\n",
       "    <tr style=\"text-align: right;\">\n",
       "      <th></th>\n",
       "      <th>title</th>\n",
       "      <th>text</th>\n",
       "      <th>Target</th>\n",
       "      <th>text_len</th>\n",
       "      <th>new_text</th>\n",
       "      <th>new_title</th>\n",
       "    </tr>\n",
       "  </thead>\n",
       "  <tbody>\n",
       "    <tr>\n",
       "      <th>0</th>\n",
       "      <td>?? the secrets to SUCCESS</td>\n",
       "      <td>hi james,\\n\\nhave you claim your complimentary...</td>\n",
       "      <td>0</td>\n",
       "      <td>302</td>\n",
       "      <td>hi james\\n\\nhave you claim your complimentary ...</td>\n",
       "      <td>?? the secrets to success</td>\n",
       "    </tr>\n",
       "    <tr>\n",
       "      <th>1</th>\n",
       "      <td>?? You Earned 500 GCLoot Points</td>\n",
       "      <td>\\nalt_text\\ncongratulations, you just earned\\n...</td>\n",
       "      <td>1</td>\n",
       "      <td>350</td>\n",
       "      <td>\\nalttext\\ncongratulations you just earned\\n50...</td>\n",
       "      <td>?? you earned 500 gcloot points</td>\n",
       "    </tr>\n",
       "    <tr>\n",
       "      <th>2</th>\n",
       "      <td>?? Your GitHub launch code</td>\n",
       "      <td>here's your github launch code, @mortyj420!\\n ...</td>\n",
       "      <td>1</td>\n",
       "      <td>166</td>\n",
       "      <td>heres your github launch code mortyj420\\n \\nan...</td>\n",
       "      <td>?? your github launch code</td>\n",
       "    </tr>\n",
       "    <tr>\n",
       "      <th>3</th>\n",
       "      <td>[The Virtual Reward Center] Re: ** Clarifications</td>\n",
       "      <td>hello,\\n \\nthank you for contacting the virtua...</td>\n",
       "      <td>1</td>\n",
       "      <td>399</td>\n",
       "      <td>hello\\n \\nthank you for contacting the virtual...</td>\n",
       "      <td>[the virtual reward center] re: ** clarifications</td>\n",
       "    </tr>\n",
       "    <tr>\n",
       "      <th>4</th>\n",
       "      <td>10-1 MLB Expert Inside, Plus Everything You Ne...</td>\n",
       "      <td>hey prachanda rawal,\\n\\ntoday's newsletter is ...</td>\n",
       "      <td>0</td>\n",
       "      <td>6079</td>\n",
       "      <td>hey prachanda rawal\\n\\ntodays newsletter is ja...</td>\n",
       "      <td>10-1 mlb expert inside, plus everything you ne...</td>\n",
       "    </tr>\n",
       "  </tbody>\n",
       "</table>\n",
       "</div>"
      ],
      "text/plain": [
       "                                               title  \\\n",
       "0                          ?? the secrets to SUCCESS   \n",
       "1                    ?? You Earned 500 GCLoot Points   \n",
       "2                         ?? Your GitHub launch code   \n",
       "3  [The Virtual Reward Center] Re: ** Clarifications   \n",
       "4  10-1 MLB Expert Inside, Plus Everything You Ne...   \n",
       "\n",
       "                                                text  Target  text_len  \\\n",
       "0  hi james,\\n\\nhave you claim your complimentary...       0       302   \n",
       "1  \\nalt_text\\ncongratulations, you just earned\\n...       1       350   \n",
       "2  here's your github launch code, @mortyj420!\\n ...       1       166   \n",
       "3  hello,\\n \\nthank you for contacting the virtua...       1       399   \n",
       "4  hey prachanda rawal,\\n\\ntoday's newsletter is ...       0      6079   \n",
       "\n",
       "                                            new_text  \\\n",
       "0  hi james\\n\\nhave you claim your complimentary ...   \n",
       "1  \\nalttext\\ncongratulations you just earned\\n50...   \n",
       "2  heres your github launch code mortyj420\\n \\nan...   \n",
       "3  hello\\n \\nthank you for contacting the virtual...   \n",
       "4  hey prachanda rawal\\n\\ntodays newsletter is ja...   \n",
       "\n",
       "                                           new_title  \n",
       "0                          ?? the secrets to success  \n",
       "1                    ?? you earned 500 gcloot points  \n",
       "2                         ?? your github launch code  \n",
       "3  [the virtual reward center] re: ** clarifications  \n",
       "4  10-1 mlb expert inside, plus everything you ne...  "
      ]
     },
     "execution_count": 124,
     "metadata": {},
     "output_type": "execute_result"
    }
   ],
   "source": [
    "def remove_punctu(text):\n",
    "    text=\"\".join([char for char in text if char not in string.punctuation])\n",
    "    return text\n",
    "df['new_text']=df['text'].apply(lambda x: remove_punctu(x))\n",
    "df.head()"
   ]
  },
  {
   "cell_type": "code",
   "execution_count": 63,
   "id": "419342b9",
   "metadata": {},
   "outputs": [
    {
     "name": "stdout",
     "output_type": "stream",
     "text": [
      "Requirement already satisfied: nltk in c:\\paytan\\lib\\site-packages (3.6.5)\n",
      "Requirement already satisfied: click in c:\\paytan\\lib\\site-packages (from nltk) (8.0.3)\n",
      "Requirement already satisfied: joblib in c:\\paytan\\lib\\site-packages (from nltk) (1.1.0)\n",
      "Requirement already satisfied: regex>=2021.8.3 in c:\\paytan\\lib\\site-packages (from nltk) (2021.8.3)\n",
      "Requirement already satisfied: tqdm in c:\\paytan\\lib\\site-packages (from nltk) (4.62.3)\n",
      "Requirement already satisfied: colorama in c:\\paytan\\lib\\site-packages (from click->nltk) (0.4.4)\n",
      "Note: you may need to restart the kernel to use updated packages.\n"
     ]
    }
   ],
   "source": [
    "pip install nltk"
   ]
  },
  {
   "cell_type": "code",
   "execution_count": 64,
   "id": "b200b40c",
   "metadata": {},
   "outputs": [],
   "source": [
    "import nltk"
   ]
  },
  {
   "cell_type": "code",
   "execution_count": 65,
   "id": "d7d18d92",
   "metadata": {},
   "outputs": [
    {
     "name": "stderr",
     "output_type": "stream",
     "text": [
      "[nltk_data] Downloading package stopwords to\n",
      "[nltk_data]     C:\\Users\\mvara\\AppData\\Roaming\\nltk_data...\n",
      "[nltk_data]   Unzipping corpora\\stopwords.zip.\n"
     ]
    },
    {
     "name": "stdout",
     "output_type": "stream",
     "text": [
      "['a', 'about', 'above', 'after', 'again', 'against', 'ain', 'all', 'am', 'an', 'and', 'any', 'are', 'aren', \"aren't\", 'as', 'at', 'be', 'because', 'been', 'before', 'being', 'below', 'between', 'both', 'but', 'by', 'can', 'couldn', \"couldn't\", 'd', 'did', 'didn', \"didn't\", 'do', 'does', 'doesn', \"doesn't\", 'doing', 'don', \"don't\", 'down', 'during', 'each', 'few', 'for', 'from', 'further', 'had', 'hadn', \"hadn't\", 'has', 'hasn', \"hasn't\", 'have', 'haven', \"haven't\", 'having', 'he', \"he'd\", \"he'll\", 'her', 'here', 'hers', 'herself', \"he's\", 'him', 'himself', 'his', 'how', 'i', \"i'd\", 'if', \"i'll\", \"i'm\", 'in', 'into', 'is', 'isn', \"isn't\", 'it', \"it'd\", \"it'll\", \"it's\", 'its', 'itself', \"i've\", 'just', 'll', 'm', 'ma', 'me', 'mightn', \"mightn't\", 'more', 'most', 'mustn', \"mustn't\", 'my', 'myself', 'needn', \"needn't\", 'no', 'nor', 'not', 'now', 'o', 'of', 'off', 'on', 'once', 'only', 'or', 'other', 'our', 'ours', 'ourselves', 'out', 'over', 'own', 're', 's', 'same', 'shan', \"shan't\", 'she', \"she'd\", \"she'll\", \"she's\", 'should', 'shouldn', \"shouldn't\", \"should've\", 'so', 'some', 'such', 't', 'than', 'that', \"that'll\", 'the', 'their', 'theirs', 'them', 'themselves', 'then', 'there', 'these', 'they', \"they'd\", \"they'll\", \"they're\", \"they've\", 'this', 'those', 'through', 'to', 'too', 'under', 'until', 'up', 've', 'very', 'was', 'wasn', \"wasn't\", 'we', \"we'd\", \"we'll\", \"we're\", 'were', 'weren', \"weren't\", \"we've\", 'what', 'when', 'where', 'which', 'while', 'who', 'whom', 'why', 'will', 'with', 'won', \"won't\", 'wouldn', \"wouldn't\", 'y', 'you', \"you'd\", \"you'll\", 'your', \"you're\", 'yours', 'yourself', 'yourselves', \"you've\"] 198\n"
     ]
    }
   ],
   "source": [
    "from nltk.corpus import stopwords\n",
    "nltk.download(\"stopwords\")\n",
    "print(stopwords.words(\"english\"),len(stopwords.words(\"english\")))"
   ]
  },
  {
   "cell_type": "code",
   "execution_count": 66,
   "id": "2a0be4c2",
   "metadata": {},
   "outputs": [],
   "source": [
    "cv=CountVectorizer(stop_words=\"english\")"
   ]
  },
  {
   "cell_type": "code",
   "execution_count": 67,
   "id": "9e6bfb43",
   "metadata": {},
   "outputs": [
    {
     "data": {
      "text/plain": [
       "CountVectorizer(stop_words='english')"
      ]
     },
     "execution_count": 67,
     "metadata": {},
     "output_type": "execute_result"
    }
   ],
   "source": [
    "cv.fit(df['new_text'])"
   ]
  },
  {
   "cell_type": "code",
   "execution_count": 68,
   "id": "0d2d2928",
   "metadata": {},
   "outputs": [],
   "source": [
    "X=cv.transform(df['new_text'])"
   ]
  },
  {
   "cell_type": "code",
   "execution_count": 71,
   "id": "754cb6d1",
   "metadata": {},
   "outputs": [
    {
     "data": {
      "text/plain": [
       "<84x2699 sparse matrix of type '<class 'numpy.int64'>'\n",
       "\twith 4781 stored elements in Compressed Sparse Row format>"
      ]
     },
     "execution_count": 71,
     "metadata": {},
     "output_type": "execute_result"
    }
   ],
   "source": [
    "X"
   ]
  },
  {
   "cell_type": "code",
   "execution_count": 77,
   "id": "ffba7660",
   "metadata": {},
   "outputs": [
    {
     "data": {
      "text/plain": [
       "<1x2699 sparse matrix of type '<class 'numpy.int64'>'\n",
       "\twith 38 stored elements in Compressed Sparse Row format>"
      ]
     },
     "execution_count": 77,
     "metadata": {},
     "output_type": "execute_result"
    }
   ],
   "source": [
    "X[1]"
   ]
  },
  {
   "cell_type": "code",
   "execution_count": 80,
   "id": "946c28c1",
   "metadata": {},
   "outputs": [],
   "source": [
    "Xset=df['new_text'].values\n",
    "# Xset/"
   ]
  },
  {
   "cell_type": "code",
   "execution_count": 103,
   "id": "f4559405",
   "metadata": {},
   "outputs": [],
   "source": [
    "y=df['Target']"
   ]
  },
  {
   "cell_type": "code",
   "execution_count": 104,
   "id": "a6bf6bd9",
   "metadata": {},
   "outputs": [],
   "source": [
    "\n",
    "yset=df['Target']\n",
    "yset=yset.astype(int)\n"
   ]
  },
  {
   "cell_type": "code",
   "execution_count": 105,
   "id": "48c128ba",
   "metadata": {},
   "outputs": [
    {
     "data": {
      "text/plain": [
       "pandas.core.series.Series"
      ]
     },
     "execution_count": 105,
     "metadata": {},
     "output_type": "execute_result"
    }
   ],
   "source": [
    "type(yset)\n",
    "\n"
   ]
  },
  {
   "cell_type": "code",
   "execution_count": 150,
   "id": "ce6630f7",
   "metadata": {},
   "outputs": [
    {
     "data": {
      "text/plain": [
       "<84x262 sparse matrix of type '<class 'numpy.int64'>'\n",
       "\twith 739 stored elements in Compressed Sparse Row format>"
      ]
     },
     "execution_count": 150,
     "metadata": {},
     "output_type": "execute_result"
    }
   ],
   "source": [
    "trainx=cv.transform(df['text'])\n",
    "trainx"
   ]
  },
  {
   "cell_type": "code",
   "execution_count": 106,
   "id": "f50dd9df",
   "metadata": {},
   "outputs": [],
   "source": [
    "from sklearn.model_selection import train_test_split\n",
    "X_train,X_test,y_train,y_test=(X,y,test_size=0.2,random_state=22)"
   ]
  },
  {
   "cell_type": "code",
   "execution_count": 107,
   "id": "dd4e47f7",
   "metadata": {},
   "outputs": [],
   "source": [
    "nb=MultinomialNB()"
   ]
  },
  {
   "cell_type": "code",
   "execution_count": 109,
   "id": "031d650a",
   "metadata": {},
   "outputs": [
    {
     "data": {
      "text/plain": [
       "MultinomialNB()"
      ]
     },
     "execution_count": 109,
     "metadata": {},
     "output_type": "execute_result"
    }
   ],
   "source": [
    "nb.fit(X_train,y_train)"
   ]
  },
  {
   "cell_type": "code",
   "execution_count": 114,
   "id": "7a5b5fca",
   "metadata": {},
   "outputs": [
    {
     "data": {
      "text/plain": [
       "array([1, 1, 0, 0, 0, 1, 1, 1, 0, 1, 0, 1, 1, 0, 0, 1, 1, 0, 1, 1, 0],\n",
       "      dtype=int64)"
      ]
     },
     "execution_count": 114,
     "metadata": {},
     "output_type": "execute_result"
    }
   ],
   "source": [
    "pred=nb.predict(X_test)\n",
    "pred"
   ]
  },
  {
   "cell_type": "code",
   "execution_count": 115,
   "id": "bd9b17d6",
   "metadata": {},
   "outputs": [
    {
     "data": {
      "text/plain": [
       "58    1\n",
       "13    1\n",
       "49    1\n",
       "0     0\n",
       "74    0\n",
       "51    1\n",
       "82    1\n",
       "6     1\n",
       "35    0\n",
       "54    1\n",
       "41    0\n",
       "65    1\n",
       "76    0\n",
       "25    0\n",
       "12    1\n",
       "43    1\n",
       "81    1\n",
       "7     0\n",
       "24    1\n",
       "79    1\n",
       "57    0\n",
       "Name: Target, dtype: int64"
      ]
     },
     "execution_count": 115,
     "metadata": {},
     "output_type": "execute_result"
    }
   ],
   "source": [
    "y_test"
   ]
  },
  {
   "cell_type": "code",
   "execution_count": 152,
   "id": "c7496184",
   "metadata": {},
   "outputs": [],
   "source": [
    "XSet_train,XSet_test,ySet_train,ySet_test = train_test_split(trainx,y,test_size=0.2, random_state=42)"
   ]
  },
  {
   "cell_type": "code",
   "execution_count": 156,
   "id": "c57ea356",
   "metadata": {},
   "outputs": [
    {
     "data": {
      "text/plain": [
       "MultinomialNB()"
      ]
     },
     "execution_count": 156,
     "metadata": {},
     "output_type": "execute_result"
    }
   ],
   "source": [
    "nb.fit(XSet_train,ySet_train)"
   ]
  },
  {
   "cell_type": "code",
   "execution_count": 158,
   "id": "ae7a0bd1",
   "metadata": {},
   "outputs": [
    {
     "data": {
      "text/plain": [
       "array([1, 1, 1, 1, 0, 0, 1, 1, 0, 0, 0, 1, 0, 1, 0, 1, 0], dtype=int64)"
      ]
     },
     "execution_count": 158,
     "metadata": {},
     "output_type": "execute_result"
    }
   ],
   "source": [
    "pred2=nb.predict(XSet_test)\n",
    "pred2"
   ]
  },
  {
   "cell_type": "code",
   "execution_count": 160,
   "id": "b977f99d",
   "metadata": {},
   "outputs": [
    {
     "data": {
      "text/plain": [
       "73    1\n",
       "0     0\n",
       "58    1\n",
       "22    0\n",
       "12    1\n",
       "70    1\n",
       "10    1\n",
       "18    1\n",
       "4     0\n",
       "65    1\n",
       "40    0\n",
       "47    1\n",
       "35    0\n",
       "81    1\n",
       "55    0\n",
       "54    1\n",
       "33    1\n",
       "Name: Target, dtype: int64"
      ]
     },
     "execution_count": 160,
     "metadata": {},
     "output_type": "execute_result"
    }
   ],
   "source": [
    "ySet_test"
   ]
  },
  {
   "cell_type": "code",
   "execution_count": 162,
   "id": "91bf64e7",
   "metadata": {},
   "outputs": [
    {
     "name": "stdout",
     "output_type": "stream",
     "text": [
      "Prediction Accuracy : 64.70588235294117\n"
     ]
    }
   ],
   "source": [
    "accuracyScore = accuracy_score(pred2,ySet_test)*100\n",
    "\n",
    "print(\"Prediction Accuracy :\",accuracyScore)"
   ]
  },
  {
   "cell_type": "code",
   "execution_count": 116,
   "id": "d0c9e454",
   "metadata": {},
   "outputs": [
    {
     "name": "stdout",
     "output_type": "stream",
     "text": [
      "Prediction Accuracy : 85.71428571428571\n"
     ]
    }
   ],
   "source": [
    "accuracyScore = accuracy_score(pred,y_test)*100\n",
    "\n",
    "print(\"Prediction Accuracy :\",accuracyScore)"
   ]
  },
  {
   "cell_type": "code",
   "execution_count": null,
   "id": "f173a718",
   "metadata": {},
   "outputs": [],
   "source": []
  },
  {
   "cell_type": "code",
   "execution_count": 117,
   "id": "f657e3fe",
   "metadata": {},
   "outputs": [],
   "source": [
    "from sklearn.metrics import confusion_matrix"
   ]
  },
  {
   "cell_type": "code",
   "execution_count": 118,
   "id": "740e523f",
   "metadata": {},
   "outputs": [
    {
     "data": {
      "text/plain": [
       "array([[ 7,  2],\n",
       "       [ 1, 11]], dtype=int64)"
      ]
     },
     "execution_count": 118,
     "metadata": {},
     "output_type": "execute_result"
    }
   ],
   "source": [
    "confusion_matrix(pred,y_test)"
   ]
  },
  {
   "cell_type": "code",
   "execution_count": 119,
   "id": "28be23ee",
   "metadata": {},
   "outputs": [
    {
     "data": {
      "text/html": [
       "<div>\n",
       "<style scoped>\n",
       "    .dataframe tbody tr th:only-of-type {\n",
       "        vertical-align: middle;\n",
       "    }\n",
       "\n",
       "    .dataframe tbody tr th {\n",
       "        vertical-align: top;\n",
       "    }\n",
       "\n",
       "    .dataframe thead th {\n",
       "        text-align: right;\n",
       "    }\n",
       "</style>\n",
       "<table border=\"1\" class=\"dataframe\">\n",
       "  <thead>\n",
       "    <tr style=\"text-align: right;\">\n",
       "      <th></th>\n",
       "      <th>title</th>\n",
       "      <th>text</th>\n",
       "      <th>Target</th>\n",
       "      <th>text_len</th>\n",
       "      <th>new_text</th>\n",
       "    </tr>\n",
       "  </thead>\n",
       "  <tbody>\n",
       "    <tr>\n",
       "      <th>0</th>\n",
       "      <td>?? the secrets to SUCCESS</td>\n",
       "      <td>hi james,\\n\\nhave you claim your complimentary...</td>\n",
       "      <td>0</td>\n",
       "      <td>302</td>\n",
       "      <td>hi james\\n\\nhave you claim your complimentary ...</td>\n",
       "    </tr>\n",
       "    <tr>\n",
       "      <th>1</th>\n",
       "      <td>?? You Earned 500 GCLoot Points</td>\n",
       "      <td>\\nalt_text\\ncongratulations, you just earned\\n...</td>\n",
       "      <td>1</td>\n",
       "      <td>350</td>\n",
       "      <td>\\nalttext\\ncongratulations you just earned\\n50...</td>\n",
       "    </tr>\n",
       "    <tr>\n",
       "      <th>2</th>\n",
       "      <td>?? Your GitHub launch code</td>\n",
       "      <td>here's your github launch code, @mortyj420!\\n ...</td>\n",
       "      <td>1</td>\n",
       "      <td>166</td>\n",
       "      <td>heres your github launch code mortyj420\\n \\nan...</td>\n",
       "    </tr>\n",
       "    <tr>\n",
       "      <th>3</th>\n",
       "      <td>[The Virtual Reward Center] Re: ** Clarifications</td>\n",
       "      <td>hello,\\n \\nthank you for contacting the virtua...</td>\n",
       "      <td>1</td>\n",
       "      <td>399</td>\n",
       "      <td>hello\\n \\nthank you for contacting the virtual...</td>\n",
       "    </tr>\n",
       "    <tr>\n",
       "      <th>4</th>\n",
       "      <td>10-1 MLB Expert Inside, Plus Everything You Ne...</td>\n",
       "      <td>hey prachanda rawal,\\n\\ntoday's newsletter is ...</td>\n",
       "      <td>0</td>\n",
       "      <td>6079</td>\n",
       "      <td>hey prachanda rawal\\n\\ntodays newsletter is ja...</td>\n",
       "    </tr>\n",
       "  </tbody>\n",
       "</table>\n",
       "</div>"
      ],
      "text/plain": [
       "                                               title  \\\n",
       "0                          ?? the secrets to SUCCESS   \n",
       "1                    ?? You Earned 500 GCLoot Points   \n",
       "2                         ?? Your GitHub launch code   \n",
       "3  [The Virtual Reward Center] Re: ** Clarifications   \n",
       "4  10-1 MLB Expert Inside, Plus Everything You Ne...   \n",
       "\n",
       "                                                text  Target  text_len  \\\n",
       "0  hi james,\\n\\nhave you claim your complimentary...       0       302   \n",
       "1  \\nalt_text\\ncongratulations, you just earned\\n...       1       350   \n",
       "2  here's your github launch code, @mortyj420!\\n ...       1       166   \n",
       "3  hello,\\n \\nthank you for contacting the virtua...       1       399   \n",
       "4  hey prachanda rawal,\\n\\ntoday's newsletter is ...       0      6079   \n",
       "\n",
       "                                            new_text  \n",
       "0  hi james\\n\\nhave you claim your complimentary ...  \n",
       "1  \\nalttext\\ncongratulations you just earned\\n50...  \n",
       "2  heres your github launch code mortyj420\\n \\nan...  \n",
       "3  hello\\n \\nthank you for contacting the virtual...  \n",
       "4  hey prachanda rawal\\n\\ntodays newsletter is ja...  "
      ]
     },
     "execution_count": 119,
     "metadata": {},
     "output_type": "execute_result"
    }
   ],
   "source": [
    "df.head()"
   ]
  },
  {
   "cell_type": "code",
   "execution_count": 127,
   "id": "f4df97d0",
   "metadata": {},
   "outputs": [
    {
     "data": {
      "text/html": [
       "<div>\n",
       "<style scoped>\n",
       "    .dataframe tbody tr th:only-of-type {\n",
       "        vertical-align: middle;\n",
       "    }\n",
       "\n",
       "    .dataframe tbody tr th {\n",
       "        vertical-align: top;\n",
       "    }\n",
       "\n",
       "    .dataframe thead th {\n",
       "        text-align: right;\n",
       "    }\n",
       "</style>\n",
       "<table border=\"1\" class=\"dataframe\">\n",
       "  <thead>\n",
       "    <tr style=\"text-align: right;\">\n",
       "      <th></th>\n",
       "      <th>title</th>\n",
       "      <th>text</th>\n",
       "      <th>Target</th>\n",
       "      <th>text_len</th>\n",
       "      <th>new_text</th>\n",
       "      <th>new_title</th>\n",
       "    </tr>\n",
       "  </thead>\n",
       "  <tbody>\n",
       "    <tr>\n",
       "      <th>0</th>\n",
       "      <td>?? the secrets to SUCCESS</td>\n",
       "      <td>hi james,\\n\\nhave you claim your complimentary...</td>\n",
       "      <td>0</td>\n",
       "      <td>302</td>\n",
       "      <td>hi james\\n\\nhave you claim your complimentary ...</td>\n",
       "      <td>?? the secrets to success</td>\n",
       "    </tr>\n",
       "    <tr>\n",
       "      <th>1</th>\n",
       "      <td>?? You Earned 500 GCLoot Points</td>\n",
       "      <td>\\nalt_text\\ncongratulations, you just earned\\n...</td>\n",
       "      <td>1</td>\n",
       "      <td>350</td>\n",
       "      <td>\\nalttext\\ncongratulations you just earned\\n50...</td>\n",
       "      <td>?? you earned 500 gcloot points</td>\n",
       "    </tr>\n",
       "    <tr>\n",
       "      <th>2</th>\n",
       "      <td>?? Your GitHub launch code</td>\n",
       "      <td>here's your github launch code, @mortyj420!\\n ...</td>\n",
       "      <td>1</td>\n",
       "      <td>166</td>\n",
       "      <td>heres your github launch code mortyj420\\n \\nan...</td>\n",
       "      <td>?? your github launch code</td>\n",
       "    </tr>\n",
       "    <tr>\n",
       "      <th>3</th>\n",
       "      <td>[The Virtual Reward Center] Re: ** Clarifications</td>\n",
       "      <td>hello,\\n \\nthank you for contacting the virtua...</td>\n",
       "      <td>1</td>\n",
       "      <td>399</td>\n",
       "      <td>hello\\n \\nthank you for contacting the virtual...</td>\n",
       "      <td>[the virtual reward center] re: ** clarifications</td>\n",
       "    </tr>\n",
       "    <tr>\n",
       "      <th>4</th>\n",
       "      <td>10-1 MLB Expert Inside, Plus Everything You Ne...</td>\n",
       "      <td>hey prachanda rawal,\\n\\ntoday's newsletter is ...</td>\n",
       "      <td>0</td>\n",
       "      <td>6079</td>\n",
       "      <td>hey prachanda rawal\\n\\ntodays newsletter is ja...</td>\n",
       "      <td>10-1 mlb expert inside, plus everything you ne...</td>\n",
       "    </tr>\n",
       "  </tbody>\n",
       "</table>\n",
       "</div>"
      ],
      "text/plain": [
       "                                               title  \\\n",
       "0                          ?? the secrets to SUCCESS   \n",
       "1                    ?? You Earned 500 GCLoot Points   \n",
       "2                         ?? Your GitHub launch code   \n",
       "3  [The Virtual Reward Center] Re: ** Clarifications   \n",
       "4  10-1 MLB Expert Inside, Plus Everything You Ne...   \n",
       "\n",
       "                                                text  Target  text_len  \\\n",
       "0  hi james,\\n\\nhave you claim your complimentary...       0       302   \n",
       "1  \\nalt_text\\ncongratulations, you just earned\\n...       1       350   \n",
       "2  here's your github launch code, @mortyj420!\\n ...       1       166   \n",
       "3  hello,\\n \\nthank you for contacting the virtua...       1       399   \n",
       "4  hey prachanda rawal,\\n\\ntoday's newsletter is ...       0      6079   \n",
       "\n",
       "                                            new_text  \\\n",
       "0  hi james\\n\\nhave you claim your complimentary ...   \n",
       "1  \\nalttext\\ncongratulations you just earned\\n50...   \n",
       "2  heres your github launch code mortyj420\\n \\nan...   \n",
       "3  hello\\n \\nthank you for contacting the virtual...   \n",
       "4  hey prachanda rawal\\n\\ntodays newsletter is ja...   \n",
       "\n",
       "                                           new_title  \n",
       "0                          ?? the secrets to success  \n",
       "1                    ?? you earned 500 gcloot points  \n",
       "2                         ?? your github launch code  \n",
       "3  [the virtual reward center] re: ** clarifications  \n",
       "4  10-1 mlb expert inside, plus everything you ne...  "
      ]
     },
     "execution_count": 127,
     "metadata": {},
     "output_type": "execute_result"
    }
   ],
   "source": [
    "def remove_punctu(title):\n",
    "    text=\"\".join([char for char in title if char not in string.punctuation])\n",
    "    return title.lower()\n",
    "df['new_title']=df['title'].apply(lambda x: remove_punctu(x))\n",
    "df.head()"
   ]
  },
  {
   "cell_type": "code",
   "execution_count": 129,
   "id": "aa1c6c5e",
   "metadata": {},
   "outputs": [
    {
     "name": "stdout",
     "output_type": "stream",
     "text": [
      "!\"#$%&'()*+,-./:;<=>?@[\\]^_`{|}~\n"
     ]
    }
   ],
   "source": [
    "print(string.punctuation)"
   ]
  },
  {
   "cell_type": "code",
   "execution_count": 142,
   "id": "76fc6421",
   "metadata": {},
   "outputs": [],
   "source": [
    "import string\n",
    "\n",
    "df['title'] = df['title'].str.translate(str.maketrans('', '', string.punctuation)).str.lower()\n"
   ]
  },
  {
   "cell_type": "code",
   "execution_count": 143,
   "id": "17721163",
   "metadata": {},
   "outputs": [
    {
     "data": {
      "text/html": [
       "<div>\n",
       "<style scoped>\n",
       "    .dataframe tbody tr th:only-of-type {\n",
       "        vertical-align: middle;\n",
       "    }\n",
       "\n",
       "    .dataframe tbody tr th {\n",
       "        vertical-align: top;\n",
       "    }\n",
       "\n",
       "    .dataframe thead th {\n",
       "        text-align: right;\n",
       "    }\n",
       "</style>\n",
       "<table border=\"1\" class=\"dataframe\">\n",
       "  <thead>\n",
       "    <tr style=\"text-align: right;\">\n",
       "      <th></th>\n",
       "      <th>title</th>\n",
       "      <th>text</th>\n",
       "      <th>Target</th>\n",
       "      <th>text_len</th>\n",
       "      <th>new_text</th>\n",
       "      <th>new_title</th>\n",
       "    </tr>\n",
       "  </thead>\n",
       "  <tbody>\n",
       "    <tr>\n",
       "      <th>0</th>\n",
       "      <td>the secrets to success</td>\n",
       "      <td>hi james,\\n\\nhave you claim your complimentary...</td>\n",
       "      <td>0</td>\n",
       "      <td>302</td>\n",
       "      <td>hi james\\n\\nhave you claim your complimentary ...</td>\n",
       "      <td>?? the secrets to success</td>\n",
       "    </tr>\n",
       "    <tr>\n",
       "      <th>1</th>\n",
       "      <td>you earned 500 gcloot points</td>\n",
       "      <td>\\nalt_text\\ncongratulations, you just earned\\n...</td>\n",
       "      <td>1</td>\n",
       "      <td>350</td>\n",
       "      <td>\\nalttext\\ncongratulations you just earned\\n50...</td>\n",
       "      <td>?? you earned 500 gcloot points</td>\n",
       "    </tr>\n",
       "    <tr>\n",
       "      <th>2</th>\n",
       "      <td>your github launch code</td>\n",
       "      <td>here's your github launch code, @mortyj420!\\n ...</td>\n",
       "      <td>1</td>\n",
       "      <td>166</td>\n",
       "      <td>heres your github launch code mortyj420\\n \\nan...</td>\n",
       "      <td>?? your github launch code</td>\n",
       "    </tr>\n",
       "    <tr>\n",
       "      <th>3</th>\n",
       "      <td>the virtual reward center re  clarifications</td>\n",
       "      <td>hello,\\n \\nthank you for contacting the virtua...</td>\n",
       "      <td>1</td>\n",
       "      <td>399</td>\n",
       "      <td>hello\\n \\nthank you for contacting the virtual...</td>\n",
       "      <td>[the virtual reward center] re: ** clarifications</td>\n",
       "    </tr>\n",
       "    <tr>\n",
       "      <th>4</th>\n",
       "      <td>101 mlb expert inside plus everything you need...</td>\n",
       "      <td>hey prachanda rawal,\\n\\ntoday's newsletter is ...</td>\n",
       "      <td>0</td>\n",
       "      <td>6079</td>\n",
       "      <td>hey prachanda rawal\\n\\ntodays newsletter is ja...</td>\n",
       "      <td>10-1 mlb expert inside, plus everything you ne...</td>\n",
       "    </tr>\n",
       "    <tr>\n",
       "      <th>...</th>\n",
       "      <td>...</td>\n",
       "      <td>...</td>\n",
       "      <td>...</td>\n",
       "      <td>...</td>\n",
       "      <td>...</td>\n",
       "      <td>...</td>\n",
       "    </tr>\n",
       "    <tr>\n",
       "      <th>79</th>\n",
       "      <td>your application for the position of  child pr...</td>\n",
       "      <td>dear maryam, \\n\\n \\n\\ni would like to thank yo...</td>\n",
       "      <td>1</td>\n",
       "      <td>432</td>\n",
       "      <td>dear maryam \\n\\n \\n\\ni would like to thank you...</td>\n",
       "      <td>your application for the position of  child pr...</td>\n",
       "    </tr>\n",
       "    <tr>\n",
       "      <th>80</th>\n",
       "      <td>your kilimall account is ready  shopping now</td>\n",
       "      <td>dear customer,\\n\\nwelcome to kilimall, thanks ...</td>\n",
       "      <td>1</td>\n",
       "      <td>466</td>\n",
       "      <td>dear customer\\n\\nwelcome to kilimall thanks so...</td>\n",
       "      <td>your kilimall account is ready - shopping now!</td>\n",
       "    </tr>\n",
       "    <tr>\n",
       "      <th>81</th>\n",
       "      <td>your steam account access from new web or mobi...</td>\n",
       "      <td>dear vladis163rus,\\nhere is the steam guard co...</td>\n",
       "      <td>1</td>\n",
       "      <td>1060</td>\n",
       "      <td>dear vladis163rus\\nhere is the steam guard cod...</td>\n",
       "      <td>your steam account: access from new web or mob...</td>\n",
       "    </tr>\n",
       "    <tr>\n",
       "      <th>82</th>\n",
       "      <td>your uploaded document is rejected</td>\n",
       "      <td>view in browser | log in\\n \\n \\n\\nskrill logo\\...</td>\n",
       "      <td>1</td>\n",
       "      <td>3163</td>\n",
       "      <td>view in browser  log in\\n \\n \\n\\nskrill logo\\n...</td>\n",
       "      <td>your uploaded document is rejected</td>\n",
       "    </tr>\n",
       "    <tr>\n",
       "      <th>83</th>\n",
       "      <td>youve earned a reward from bard explorers india</td>\n",
       "      <td>you've received a gift!\\nsign in to your bard ...</td>\n",
       "      <td>1</td>\n",
       "      <td>499</td>\n",
       "      <td>youve received a gift\\nsign in to your bard ex...</td>\n",
       "      <td>you've earned a reward from bard explorers india</td>\n",
       "    </tr>\n",
       "  </tbody>\n",
       "</table>\n",
       "<p>84 rows × 6 columns</p>\n",
       "</div>"
      ],
      "text/plain": [
       "                                                title  \\\n",
       "0                              the secrets to success   \n",
       "1                        you earned 500 gcloot points   \n",
       "2                             your github launch code   \n",
       "3        the virtual reward center re  clarifications   \n",
       "4   101 mlb expert inside plus everything you need...   \n",
       "..                                                ...   \n",
       "79  your application for the position of  child pr...   \n",
       "80       your kilimall account is ready  shopping now   \n",
       "81  your steam account access from new web or mobi...   \n",
       "82                 your uploaded document is rejected   \n",
       "83    youve earned a reward from bard explorers india   \n",
       "\n",
       "                                                 text  Target  text_len  \\\n",
       "0   hi james,\\n\\nhave you claim your complimentary...       0       302   \n",
       "1   \\nalt_text\\ncongratulations, you just earned\\n...       1       350   \n",
       "2   here's your github launch code, @mortyj420!\\n ...       1       166   \n",
       "3   hello,\\n \\nthank you for contacting the virtua...       1       399   \n",
       "4   hey prachanda rawal,\\n\\ntoday's newsletter is ...       0      6079   \n",
       "..                                                ...     ...       ...   \n",
       "79  dear maryam, \\n\\n \\n\\ni would like to thank yo...       1       432   \n",
       "80  dear customer,\\n\\nwelcome to kilimall, thanks ...       1       466   \n",
       "81  dear vladis163rus,\\nhere is the steam guard co...       1      1060   \n",
       "82  view in browser | log in\\n \\n \\n\\nskrill logo\\...       1      3163   \n",
       "83  you've received a gift!\\nsign in to your bard ...       1       499   \n",
       "\n",
       "                                             new_text  \\\n",
       "0   hi james\\n\\nhave you claim your complimentary ...   \n",
       "1   \\nalttext\\ncongratulations you just earned\\n50...   \n",
       "2   heres your github launch code mortyj420\\n \\nan...   \n",
       "3   hello\\n \\nthank you for contacting the virtual...   \n",
       "4   hey prachanda rawal\\n\\ntodays newsletter is ja...   \n",
       "..                                                ...   \n",
       "79  dear maryam \\n\\n \\n\\ni would like to thank you...   \n",
       "80  dear customer\\n\\nwelcome to kilimall thanks so...   \n",
       "81  dear vladis163rus\\nhere is the steam guard cod...   \n",
       "82  view in browser  log in\\n \\n \\n\\nskrill logo\\n...   \n",
       "83  youve received a gift\\nsign in to your bard ex...   \n",
       "\n",
       "                                            new_title  \n",
       "0                           ?? the secrets to success  \n",
       "1                     ?? you earned 500 gcloot points  \n",
       "2                          ?? your github launch code  \n",
       "3   [the virtual reward center] re: ** clarifications  \n",
       "4   10-1 mlb expert inside, plus everything you ne...  \n",
       "..                                                ...  \n",
       "79  your application for the position of  child pr...  \n",
       "80     your kilimall account is ready - shopping now!  \n",
       "81  your steam account: access from new web or mob...  \n",
       "82                 your uploaded document is rejected  \n",
       "83   you've earned a reward from bard explorers india  \n",
       "\n",
       "[84 rows x 6 columns]"
      ]
     },
     "execution_count": 143,
     "metadata": {},
     "output_type": "execute_result"
    }
   ],
   "source": [
    "df"
   ]
  },
  {
   "cell_type": "code",
   "execution_count": 144,
   "id": "266f54c8",
   "metadata": {},
   "outputs": [
    {
     "data": {
      "text/plain": [
       "CountVectorizer(stop_words='english')"
      ]
     },
     "execution_count": 144,
     "metadata": {},
     "output_type": "execute_result"
    }
   ],
   "source": [
    "cv.fit(df['title'])"
   ]
  },
  {
   "cell_type": "code",
   "execution_count": 145,
   "id": "1e17b787",
   "metadata": {},
   "outputs": [],
   "source": [
    "X1=cv.transform(df[\"title\"])"
   ]
  },
  {
   "cell_type": "code",
   "execution_count": 146,
   "id": "25e2ca11",
   "metadata": {},
   "outputs": [
    {
     "data": {
      "text/plain": [
       "<84x262 sparse matrix of type '<class 'numpy.int64'>'\n",
       "\twith 342 stored elements in Compressed Sparse Row format>"
      ]
     },
     "execution_count": 146,
     "metadata": {},
     "output_type": "execute_result"
    }
   ],
   "source": [
    "X1"
   ]
  },
  {
   "cell_type": "code",
   "execution_count": 164,
   "id": "540ddaf1",
   "metadata": {},
   "outputs": [],
   "source": [
    "y1=df['Target']"
   ]
  },
  {
   "cell_type": "code",
   "execution_count": 166,
   "id": "84095a80",
   "metadata": {},
   "outputs": [],
   "source": [
    "X1_train,X1_test,y1_train,y1_test=train_test_split(X1,y1,test_size=0.2)"
   ]
  },
  {
   "cell_type": "code",
   "execution_count": 167,
   "id": "4b018766",
   "metadata": {},
   "outputs": [
    {
     "data": {
      "text/plain": [
       "MultinomialNB()"
      ]
     },
     "execution_count": 167,
     "metadata": {},
     "output_type": "execute_result"
    }
   ],
   "source": [
    "nb.fit(X1_train,y1_train)"
   ]
  },
  {
   "cell_type": "code",
   "execution_count": 169,
   "id": "9fe398f5",
   "metadata": {},
   "outputs": [
    {
     "data": {
      "text/plain": [
       "array([0, 0, 0, 1, 1, 1, 0, 1, 0, 0, 1, 0, 1, 1, 1, 0, 0], dtype=int64)"
      ]
     },
     "execution_count": 169,
     "metadata": {},
     "output_type": "execute_result"
    }
   ],
   "source": [
    "pred3=nb.predict(X1_test)\n",
    "pred3"
   ]
  },
  {
   "cell_type": "code",
   "execution_count": 170,
   "id": "97014931",
   "metadata": {},
   "outputs": [
    {
     "data": {
      "text/plain": [
       "14    0\n",
       "55    0\n",
       "33    1\n",
       "18    1\n",
       "0     0\n",
       "80    1\n",
       "15    1\n",
       "64    1\n",
       "35    0\n",
       "31    0\n",
       "3     1\n",
       "78    1\n",
       "34    0\n",
       "52    1\n",
       "61    0\n",
       "37    1\n",
       "20    0\n",
       "Name: Target, dtype: int64"
      ]
     },
     "execution_count": 170,
     "metadata": {},
     "output_type": "execute_result"
    }
   ],
   "source": [
    "y1_test"
   ]
  },
  {
   "cell_type": "code",
   "execution_count": 173,
   "id": "ffeedf0d",
   "metadata": {},
   "outputs": [
    {
     "data": {
      "text/plain": [
       "58.82352941176471"
      ]
     },
     "execution_count": 173,
     "metadata": {},
     "output_type": "execute_result"
    }
   ],
   "source": [
    "accuracy_score(pred3,y1_test)*100"
   ]
  },
  {
   "cell_type": "code",
   "execution_count": 172,
   "id": "adfc0ff1",
   "metadata": {},
   "outputs": [
    {
     "data": {
      "text/plain": [
       "array([[5, 4],\n",
       "       [3, 5]], dtype=int64)"
      ]
     },
     "execution_count": 172,
     "metadata": {},
     "output_type": "execute_result"
    }
   ],
   "source": [
    "confusion_matrix(pred3,y1_test)"
   ]
  },
  {
   "cell_type": "code",
   "execution_count": null,
   "id": "37e3e980",
   "metadata": {},
   "outputs": [],
   "source": []
  },
  {
   "cell_type": "code",
   "execution_count": null,
   "id": "5a5fa86d",
   "metadata": {},
   "outputs": [],
   "source": []
  }
 ],
 "metadata": {
  "kernelspec": {
   "display_name": "Python 3 (ipykernel)",
   "language": "python",
   "name": "python3"
  },
  "language_info": {
   "codemirror_mode": {
    "name": "ipython",
    "version": 3
   },
   "file_extension": ".py",
   "mimetype": "text/x-python",
   "name": "python",
   "nbconvert_exporter": "python",
   "pygments_lexer": "ipython3",
   "version": "3.9.7"
  }
 },
 "nbformat": 4,
 "nbformat_minor": 5
}
